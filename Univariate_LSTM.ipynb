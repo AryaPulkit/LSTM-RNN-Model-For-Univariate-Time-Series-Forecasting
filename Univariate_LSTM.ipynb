{
  "nbformat": 4,
  "nbformat_minor": 0,
  "metadata": {
    "colab": {
      "name": "Univariate_LSTM.ipynb",
      "provenance": [],
      "toc_visible": true,
      "authorship_tag": "ABX9TyO81pVbtxeLBWVgkyaZSfJV",
      "include_colab_link": true
    },
    "kernelspec": {
      "name": "python3",
      "display_name": "Python 3"
    }
  },
  "cells": [
    {
      "cell_type": "markdown",
      "metadata": {
        "id": "view-in-github",
        "colab_type": "text"
      },
      "source": [
        "<a href=\"https://colab.research.google.com/github/AryaPulkit/LSTM-RNN-Model-For-Univariate-Time-Series-Forecasting/blob/master/Univariate_LSTM.ipynb\" target=\"_parent\"><img src=\"https://colab.research.google.com/assets/colab-badge.svg\" alt=\"Open In Colab\"/></a>"
      ]
    },
    {
      "cell_type": "markdown",
      "metadata": {
        "id": "9sUT59OAMzPR",
        "colab_type": "text"
      },
      "source": [
        "#kaggle dataset\n",
        "#https://www.kaggle.com/rakannimer/air-passengers?select=AirPassengers.csv"
      ]
    },
    {
      "cell_type": "code",
      "metadata": {
        "id": "859ky_LK-89q",
        "colab_type": "code",
        "colab": {}
      },
      "source": [
        "import pandas as pd\n",
        "import numpy as np\n",
        "import matplotlib.pyplot as plt\n",
        "import math"
      ],
      "execution_count": 0,
      "outputs": []
    },
    {
      "cell_type": "code",
      "metadata": {
        "id": "gbni_IKsM13w",
        "colab_type": "code",
        "colab": {
          "base_uri": "https://localhost:8080/",
          "height": 406
        },
        "outputId": "e65983db-7496-43dd-f780-dcd777cc87ef"
      },
      "source": [
        "data = pd.read_csv('AirPassengers.csv')\n",
        "data"
      ],
      "execution_count": 4,
      "outputs": [
        {
          "output_type": "execute_result",
          "data": {
            "text/html": [
              "<div>\n",
              "<style scoped>\n",
              "    .dataframe tbody tr th:only-of-type {\n",
              "        vertical-align: middle;\n",
              "    }\n",
              "\n",
              "    .dataframe tbody tr th {\n",
              "        vertical-align: top;\n",
              "    }\n",
              "\n",
              "    .dataframe thead th {\n",
              "        text-align: right;\n",
              "    }\n",
              "</style>\n",
              "<table border=\"1\" class=\"dataframe\">\n",
              "  <thead>\n",
              "    <tr style=\"text-align: right;\">\n",
              "      <th></th>\n",
              "      <th>Month</th>\n",
              "      <th>#Passengers</th>\n",
              "    </tr>\n",
              "  </thead>\n",
              "  <tbody>\n",
              "    <tr>\n",
              "      <th>0</th>\n",
              "      <td>1949-01</td>\n",
              "      <td>112</td>\n",
              "    </tr>\n",
              "    <tr>\n",
              "      <th>1</th>\n",
              "      <td>1949-02</td>\n",
              "      <td>118</td>\n",
              "    </tr>\n",
              "    <tr>\n",
              "      <th>2</th>\n",
              "      <td>1949-03</td>\n",
              "      <td>132</td>\n",
              "    </tr>\n",
              "    <tr>\n",
              "      <th>3</th>\n",
              "      <td>1949-04</td>\n",
              "      <td>129</td>\n",
              "    </tr>\n",
              "    <tr>\n",
              "      <th>4</th>\n",
              "      <td>1949-05</td>\n",
              "      <td>121</td>\n",
              "    </tr>\n",
              "    <tr>\n",
              "      <th>...</th>\n",
              "      <td>...</td>\n",
              "      <td>...</td>\n",
              "    </tr>\n",
              "    <tr>\n",
              "      <th>139</th>\n",
              "      <td>1960-08</td>\n",
              "      <td>606</td>\n",
              "    </tr>\n",
              "    <tr>\n",
              "      <th>140</th>\n",
              "      <td>1960-09</td>\n",
              "      <td>508</td>\n",
              "    </tr>\n",
              "    <tr>\n",
              "      <th>141</th>\n",
              "      <td>1960-10</td>\n",
              "      <td>461</td>\n",
              "    </tr>\n",
              "    <tr>\n",
              "      <th>142</th>\n",
              "      <td>1960-11</td>\n",
              "      <td>390</td>\n",
              "    </tr>\n",
              "    <tr>\n",
              "      <th>143</th>\n",
              "      <td>1960-12</td>\n",
              "      <td>432</td>\n",
              "    </tr>\n",
              "  </tbody>\n",
              "</table>\n",
              "<p>144 rows × 2 columns</p>\n",
              "</div>"
            ],
            "text/plain": [
              "       Month  #Passengers\n",
              "0    1949-01          112\n",
              "1    1949-02          118\n",
              "2    1949-03          132\n",
              "3    1949-04          129\n",
              "4    1949-05          121\n",
              "..       ...          ...\n",
              "139  1960-08          606\n",
              "140  1960-09          508\n",
              "141  1960-10          461\n",
              "142  1960-11          390\n",
              "143  1960-12          432\n",
              "\n",
              "[144 rows x 2 columns]"
            ]
          },
          "metadata": {
            "tags": []
          },
          "execution_count": 4
        }
      ]
    },
    {
      "cell_type": "code",
      "metadata": {
        "id": "AkO0dURYogT0",
        "colab_type": "code",
        "colab": {}
      },
      "source": [
        "data1 = pd.read_csv('AirPassengers.csv')\n",
        "data1['Month'] = pd.to_datetime(data1['Month'])\n",
        "data1.set_index('Month', inplace=True) #set date as index\n"
      ],
      "execution_count": 0,
      "outputs": []
    },
    {
      "cell_type": "code",
      "metadata": {
        "id": "7cZWuGDnNVDM",
        "colab_type": "code",
        "colab": {
          "base_uri": "https://localhost:8080/",
          "height": 197
        },
        "outputId": "26de493e-70b1-42f1-bdb5-bbb6b329b13a"
      },
      "source": [
        "data.tail()"
      ],
      "execution_count": 5,
      "outputs": [
        {
          "output_type": "execute_result",
          "data": {
            "text/html": [
              "<div>\n",
              "<style scoped>\n",
              "    .dataframe tbody tr th:only-of-type {\n",
              "        vertical-align: middle;\n",
              "    }\n",
              "\n",
              "    .dataframe tbody tr th {\n",
              "        vertical-align: top;\n",
              "    }\n",
              "\n",
              "    .dataframe thead th {\n",
              "        text-align: right;\n",
              "    }\n",
              "</style>\n",
              "<table border=\"1\" class=\"dataframe\">\n",
              "  <thead>\n",
              "    <tr style=\"text-align: right;\">\n",
              "      <th></th>\n",
              "      <th>Month</th>\n",
              "      <th>#Passengers</th>\n",
              "    </tr>\n",
              "  </thead>\n",
              "  <tbody>\n",
              "    <tr>\n",
              "      <th>139</th>\n",
              "      <td>1960-08</td>\n",
              "      <td>606</td>\n",
              "    </tr>\n",
              "    <tr>\n",
              "      <th>140</th>\n",
              "      <td>1960-09</td>\n",
              "      <td>508</td>\n",
              "    </tr>\n",
              "    <tr>\n",
              "      <th>141</th>\n",
              "      <td>1960-10</td>\n",
              "      <td>461</td>\n",
              "    </tr>\n",
              "    <tr>\n",
              "      <th>142</th>\n",
              "      <td>1960-11</td>\n",
              "      <td>390</td>\n",
              "    </tr>\n",
              "    <tr>\n",
              "      <th>143</th>\n",
              "      <td>1960-12</td>\n",
              "      <td>432</td>\n",
              "    </tr>\n",
              "  </tbody>\n",
              "</table>\n",
              "</div>"
            ],
            "text/plain": [
              "       Month  #Passengers\n",
              "139  1960-08          606\n",
              "140  1960-09          508\n",
              "141  1960-10          461\n",
              "142  1960-11          390\n",
              "143  1960-12          432"
            ]
          },
          "metadata": {
            "tags": []
          },
          "execution_count": 5
        }
      ]
    },
    {
      "cell_type": "code",
      "metadata": {
        "id": "aZVWGNhiNnOZ",
        "colab_type": "code",
        "colab": {
          "base_uri": "https://localhost:8080/",
          "height": 176
        },
        "outputId": "926c1ba7-fb8e-40a6-ba35-11487bbd3146"
      },
      "source": [
        "data.info()"
      ],
      "execution_count": 7,
      "outputs": [
        {
          "output_type": "stream",
          "text": [
            "<class 'pandas.core.frame.DataFrame'>\n",
            "RangeIndex: 144 entries, 0 to 143\n",
            "Data columns (total 2 columns):\n",
            " #   Column       Non-Null Count  Dtype \n",
            "---  ------       --------------  ----- \n",
            " 0   Month        144 non-null    object\n",
            " 1   #Passengers  144 non-null    int64 \n",
            "dtypes: int64(1), object(1)\n",
            "memory usage: 2.4+ KB\n"
          ],
          "name": "stdout"
        }
      ]
    },
    {
      "cell_type": "code",
      "metadata": {
        "id": "wWnFo-vrOSLH",
        "colab_type": "code",
        "colab": {
          "base_uri": "https://localhost:8080/",
          "height": 176
        },
        "outputId": "180f4d81-cc2e-4040-b734-1d991559d8ae"
      },
      "source": [
        "data['Month'] = pd.to_datetime(data['Month'])\n",
        "data.info()"
      ],
      "execution_count": 13,
      "outputs": [
        {
          "output_type": "stream",
          "text": [
            "<class 'pandas.core.frame.DataFrame'>\n",
            "RangeIndex: 144 entries, 0 to 143\n",
            "Data columns (total 2 columns):\n",
            " #   Column       Non-Null Count  Dtype         \n",
            "---  ------       --------------  -----         \n",
            " 0   Month        144 non-null    datetime64[ns]\n",
            " 1   #Passengers  144 non-null    int64         \n",
            "dtypes: datetime64[ns](1), int64(1)\n",
            "memory usage: 2.4 KB\n"
          ],
          "name": "stdout"
        }
      ]
    },
    {
      "cell_type": "code",
      "metadata": {
        "id": "pSqfuFrNOz1h",
        "colab_type": "code",
        "colab": {}
      },
      "source": [
        "data.set_index('Month', inplace=True) #set date as index\n"
      ],
      "execution_count": 0,
      "outputs": []
    },
    {
      "cell_type": "code",
      "metadata": {
        "id": "6FksYXc_NgUF",
        "colab_type": "code",
        "colab": {
          "base_uri": "https://localhost:8080/",
          "height": 312
        },
        "outputId": "c1744e06-87cf-4a99-f3f3-13f4e2a21c14"
      },
      "source": [
        "plt.xlabel(\"Month\")\n",
        "plt.ylabel(\"Passengers\")\n",
        "plt.title(\"Passengers Travelled\")\n",
        "plt.plot(data['#Passengers'],)\n"
      ],
      "execution_count": 23,
      "outputs": [
        {
          "output_type": "execute_result",
          "data": {
            "text/plain": [
              "[<matplotlib.lines.Line2D at 0x7fac66f34630>]"
            ]
          },
          "metadata": {
            "tags": []
          },
          "execution_count": 23
        },
        {
          "output_type": "display_data",
          "data": {
            "image/png": "[encoded data removed]",
            "text/plain": [
              "<Figure size 432x288 with 1 Axes>"
            ]
          },
          "metadata": {
            "tags": [],
            "needs_background": "light"
          }
        }
      ]
    },
    {
      "cell_type": "code",
      "metadata": {
        "id": "ORTTvj0HP7ay",
        "colab_type": "code",
        "colab": {
          "base_uri": "https://localhost:8080/",
          "height": 247
        },
        "outputId": "2da49e78-af2b-4813-e84f-4f7da711deec"
      },
      "source": [
        "#data_Scaling\n",
        "data['#Passengers']"
      ],
      "execution_count": 25,
      "outputs": [
        {
          "output_type": "execute_result",
          "data": {
            "text/plain": [
              "Month\n",
              "1949-01-01    112\n",
              "1949-02-01    118\n",
              "1949-03-01    132\n",
              "1949-04-01    129\n",
              "1949-05-01    121\n",
              "             ... \n",
              "1960-08-01    606\n",
              "1960-09-01    508\n",
              "1960-10-01    461\n",
              "1960-11-01    390\n",
              "1960-12-01    432\n",
              "Name: #Passengers, Length: 144, dtype: int64"
            ]
          },
          "metadata": {
            "tags": []
          },
          "execution_count": 25
        }
      ]
    },
    {
      "cell_type": "code",
      "metadata": {
        "id": "aDMxCWfbRGJW",
        "colab_type": "code",
        "colab": {}
      },
      "source": [
        "from sklearn.preprocessing import MinMaxScaler\n",
        "scaler=MinMaxScaler(feature_range=(0,1))\n",
        "data=scaler.fit_transform(data)"
      ],
      "execution_count": 0,
      "outputs": []
    },
    {
      "cell_type": "code",
      "metadata": {
        "id": "QrZeiz8BRgKF",
        "colab_type": "code",
        "colab": {
          "base_uri": "https://localhost:8080/",
          "height": 1000
        },
        "outputId": "5a7077b0-8b56-4cbf-807a-60aff509bd79"
      },
      "source": [
        "data"
      ],
      "execution_count": 35,
      "outputs": [
        {
          "output_type": "execute_result",
          "data": {
            "text/plain": [
              "array([[0.01544402],\n",
              "       [0.02702703],\n",
              "       [0.05405405],\n",
              "       [0.04826255],\n",
              "       [0.03281853],\n",
              "       [0.05984556],\n",
              "       [0.08494208],\n",
              "       [0.08494208],\n",
              "       [0.06177606],\n",
              "       [0.02895753],\n",
              "       [0.        ],\n",
              "       [0.02702703],\n",
              "       [0.02123552],\n",
              "       [0.04247104],\n",
              "       [0.07142857],\n",
              "       [0.05984556],\n",
              "       [0.04054054],\n",
              "       [0.08687259],\n",
              "       [0.12741313],\n",
              "       [0.12741313],\n",
              "       [0.1042471 ],\n",
              "       [0.05598456],\n",
              "       [0.01930502],\n",
              "       [0.06949807],\n",
              "       [0.07915058],\n",
              "       [0.08880309],\n",
              "       [0.14285714],\n",
              "       [0.11389961],\n",
              "       [0.13127413],\n",
              "       [0.14285714],\n",
              "       [0.18339768],\n",
              "       [0.18339768],\n",
              "       [0.15444015],\n",
              "       [0.11196911],\n",
              "       [0.08108108],\n",
              "       [0.11969112],\n",
              "       [0.12934363],\n",
              "       [0.14671815],\n",
              "       [0.17181467],\n",
              "       [0.14864865],\n",
              "       [0.15250965],\n",
              "       [0.22007722],\n",
              "       [0.24324324],\n",
              "       [0.26640927],\n",
              "       [0.2027027 ],\n",
              "       [0.16795367],\n",
              "       [0.13127413],\n",
              "       [0.17374517],\n",
              "       [0.17760618],\n",
              "       [0.17760618],\n",
              "       [0.25482625],\n",
              "       [0.25289575],\n",
              "       [0.24131274],\n",
              "       [0.26833977],\n",
              "       [0.30888031],\n",
              "       [0.32432432],\n",
              "       [0.25675676],\n",
              "       [0.20656371],\n",
              "       [0.14671815],\n",
              "       [0.18725869],\n",
              "       [0.19305019],\n",
              "       [0.16216216],\n",
              "       [0.25289575],\n",
              "       [0.23745174],\n",
              "       [0.25096525],\n",
              "       [0.30888031],\n",
              "       [0.38223938],\n",
              "       [0.36486486],\n",
              "       [0.2992278 ],\n",
              "       [0.24131274],\n",
              "       [0.19111969],\n",
              "       [0.24131274],\n",
              "       [0.26640927],\n",
              "       [0.24903475],\n",
              "       [0.31467181],\n",
              "       [0.31853282],\n",
              "       [0.32046332],\n",
              "       [0.40733591],\n",
              "       [0.5019305 ],\n",
              "       [0.46911197],\n",
              "       [0.4015444 ],\n",
              "       [0.32818533],\n",
              "       [0.25675676],\n",
              "       [0.33590734],\n",
              "       [0.34749035],\n",
              "       [0.33397683],\n",
              "       [0.41119691],\n",
              "       [0.4034749 ],\n",
              "       [0.41312741],\n",
              "       [0.52123552],\n",
              "       [0.5965251 ],\n",
              "       [0.58108108],\n",
              "       [0.48455598],\n",
              "       [0.38996139],\n",
              "       [0.32239382],\n",
              "       [0.38996139],\n",
              "       [0.40733591],\n",
              "       [0.38030888],\n",
              "       [0.48648649],\n",
              "       [0.47104247],\n",
              "       [0.48455598],\n",
              "       [0.61389961],\n",
              "       [0.6969112 ],\n",
              "       [0.7007722 ],\n",
              "       [0.57915058],\n",
              "       [0.46911197],\n",
              "       [0.38803089],\n",
              "       [0.44787645],\n",
              "       [0.45559846],\n",
              "       [0.41312741],\n",
              "       [0.4980695 ],\n",
              "       [0.47104247],\n",
              "       [0.5       ],\n",
              "       [0.63899614],\n",
              "       [0.74710425],\n",
              "       [0.77413127],\n",
              "       [0.57915058],\n",
              "       [0.49227799],\n",
              "       [0.3976834 ],\n",
              "       [0.44980695],\n",
              "       [0.49420849],\n",
              "       [0.45945946],\n",
              "       [0.58301158],\n",
              "       [0.56370656],\n",
              "       [0.61003861],\n",
              "       [0.71042471],\n",
              "       [0.85714286],\n",
              "       [0.87837838],\n",
              "       [0.69305019],\n",
              "       [0.58494208],\n",
              "       [0.4980695 ],\n",
              "       [0.58108108],\n",
              "       [0.6042471 ],\n",
              "       [0.55405405],\n",
              "       [0.60810811],\n",
              "       [0.68918919],\n",
              "       [0.71042471],\n",
              "       [0.83204633],\n",
              "       [1.        ],\n",
              "       [0.96911197],\n",
              "       [0.77992278],\n",
              "       [0.68918919],\n",
              "       [0.55212355],\n",
              "       [0.63320463]])"
            ]
          },
          "metadata": {
            "tags": []
          },
          "execution_count": 35
        }
      ]
    },
    {
      "cell_type": "code",
      "metadata": {
        "id": "zU_CxQP3R4V4",
        "colab_type": "code",
        "colab": {
          "base_uri": "https://localhost:8080/",
          "height": 34
        },
        "outputId": "116f26d5-6566-4947-9176-0b8ab7165b06"
      },
      "source": [
        "data.shape"
      ],
      "execution_count": 39,
      "outputs": [
        {
          "output_type": "execute_result",
          "data": {
            "text/plain": [
              "(144, 1)"
            ]
          },
          "metadata": {
            "tags": []
          },
          "execution_count": 39
        }
      ]
    },
    {
      "cell_type": "code",
      "metadata": {
        "id": "DaNNP4M7TsIV",
        "colab_type": "code",
        "colab": {}
      },
      "source": [
        "#Creating train and test partition\n",
        "train = int(len(data)*0.75)\n",
        "test = len(data)-train\n"
      ],
      "execution_count": 0,
      "outputs": []
    },
    {
      "cell_type": "code",
      "metadata": {
        "id": "uwklC7saULIk",
        "colab_type": "code",
        "colab": {
          "base_uri": "https://localhost:8080/",
          "height": 34
        },
        "outputId": "5a2962b3-2906-4021-ab71-9b51a7e1b38b"
      },
      "source": [
        "train"
      ],
      "execution_count": 43,
      "outputs": [
        {
          "output_type": "execute_result",
          "data": {
            "text/plain": [
              "108"
            ]
          },
          "metadata": {
            "tags": []
          },
          "execution_count": 43
        }
      ]
    },
    {
      "cell_type": "code",
      "metadata": {
        "id": "2vFWPKzxUd2S",
        "colab_type": "code",
        "colab": {
          "base_uri": "https://localhost:8080/",
          "height": 34
        },
        "outputId": "c219e78a-23d9-44b2-fe5b-03ec0d70c581"
      },
      "source": [
        "test"
      ],
      "execution_count": 44,
      "outputs": [
        {
          "output_type": "execute_result",
          "data": {
            "text/plain": [
              "36"
            ]
          },
          "metadata": {
            "tags": []
          },
          "execution_count": 44
        }
      ]
    },
    {
      "cell_type": "code",
      "metadata": {
        "id": "FGT_C3FjUfot",
        "colab_type": "code",
        "colab": {}
      },
      "source": [
        "train_data,test_data=data[0:train,:],data[train:len(data),:1]"
      ],
      "execution_count": 0,
      "outputs": []
    },
    {
      "cell_type": "code",
      "metadata": {
        "id": "T2vDeSGoUy6x",
        "colab_type": "code",
        "colab": {
          "base_uri": "https://localhost:8080/",
          "height": 1000
        },
        "outputId": "e471e59b-0242-4c5f-a1c5-afbe7751e28b"
      },
      "source": [
        "train_data"
      ],
      "execution_count": 48,
      "outputs": [
        {
          "output_type": "execute_result",
          "data": {
            "text/plain": [
              "array([[0.01544402],\n",
              "       [0.02702703],\n",
              "       [0.05405405],\n",
              "       [0.04826255],\n",
              "       [0.03281853],\n",
              "       [0.05984556],\n",
              "       [0.08494208],\n",
              "       [0.08494208],\n",
              "       [0.06177606],\n",
              "       [0.02895753],\n",
              "       [0.        ],\n",
              "       [0.02702703],\n",
              "       [0.02123552],\n",
              "       [0.04247104],\n",
              "       [0.07142857],\n",
              "       [0.05984556],\n",
              "       [0.04054054],\n",
              "       [0.08687259],\n",
              "       [0.12741313],\n",
              "       [0.12741313],\n",
              "       [0.1042471 ],\n",
              "       [0.05598456],\n",
              "       [0.01930502],\n",
              "       [0.06949807],\n",
              "       [0.07915058],\n",
              "       [0.08880309],\n",
              "       [0.14285714],\n",
              "       [0.11389961],\n",
              "       [0.13127413],\n",
              "       [0.14285714],\n",
              "       [0.18339768],\n",
              "       [0.18339768],\n",
              "       [0.15444015],\n",
              "       [0.11196911],\n",
              "       [0.08108108],\n",
              "       [0.11969112],\n",
              "       [0.12934363],\n",
              "       [0.14671815],\n",
              "       [0.17181467],\n",
              "       [0.14864865],\n",
              "       [0.15250965],\n",
              "       [0.22007722],\n",
              "       [0.24324324],\n",
              "       [0.26640927],\n",
              "       [0.2027027 ],\n",
              "       [0.16795367],\n",
              "       [0.13127413],\n",
              "       [0.17374517],\n",
              "       [0.17760618],\n",
              "       [0.17760618],\n",
              "       [0.25482625],\n",
              "       [0.25289575],\n",
              "       [0.24131274],\n",
              "       [0.26833977],\n",
              "       [0.30888031],\n",
              "       [0.32432432],\n",
              "       [0.25675676],\n",
              "       [0.20656371],\n",
              "       [0.14671815],\n",
              "       [0.18725869],\n",
              "       [0.19305019],\n",
              "       [0.16216216],\n",
              "       [0.25289575],\n",
              "       [0.23745174],\n",
              "       [0.25096525],\n",
              "       [0.30888031],\n",
              "       [0.38223938],\n",
              "       [0.36486486],\n",
              "       [0.2992278 ],\n",
              "       [0.24131274],\n",
              "       [0.19111969],\n",
              "       [0.24131274],\n",
              "       [0.26640927],\n",
              "       [0.24903475],\n",
              "       [0.31467181],\n",
              "       [0.31853282],\n",
              "       [0.32046332],\n",
              "       [0.40733591],\n",
              "       [0.5019305 ],\n",
              "       [0.46911197],\n",
              "       [0.4015444 ],\n",
              "       [0.32818533],\n",
              "       [0.25675676],\n",
              "       [0.33590734],\n",
              "       [0.34749035],\n",
              "       [0.33397683],\n",
              "       [0.41119691],\n",
              "       [0.4034749 ],\n",
              "       [0.41312741],\n",
              "       [0.52123552],\n",
              "       [0.5965251 ],\n",
              "       [0.58108108],\n",
              "       [0.48455598],\n",
              "       [0.38996139],\n",
              "       [0.32239382],\n",
              "       [0.38996139],\n",
              "       [0.40733591],\n",
              "       [0.38030888],\n",
              "       [0.48648649],\n",
              "       [0.47104247],\n",
              "       [0.48455598],\n",
              "       [0.61389961],\n",
              "       [0.6969112 ],\n",
              "       [0.7007722 ],\n",
              "       [0.57915058],\n",
              "       [0.46911197],\n",
              "       [0.38803089],\n",
              "       [0.44787645]])"
            ]
          },
          "metadata": {
            "tags": []
          },
          "execution_count": 48
        }
      ]
    },
    {
      "cell_type": "code",
      "metadata": {
        "id": "qzdoy5AFU86u",
        "colab_type": "code",
        "colab": {
          "base_uri": "https://localhost:8080/",
          "height": 656
        },
        "outputId": "bacca1ab-2a4a-4983-8883-f4061fa40ad0"
      },
      "source": [
        "test_data"
      ],
      "execution_count": 49,
      "outputs": [
        {
          "output_type": "execute_result",
          "data": {
            "text/plain": [
              "array([[0.45559846],\n",
              "       [0.41312741],\n",
              "       [0.4980695 ],\n",
              "       [0.47104247],\n",
              "       [0.5       ],\n",
              "       [0.63899614],\n",
              "       [0.74710425],\n",
              "       [0.77413127],\n",
              "       [0.57915058],\n",
              "       [0.49227799],\n",
              "       [0.3976834 ],\n",
              "       [0.44980695],\n",
              "       [0.49420849],\n",
              "       [0.45945946],\n",
              "       [0.58301158],\n",
              "       [0.56370656],\n",
              "       [0.61003861],\n",
              "       [0.71042471],\n",
              "       [0.85714286],\n",
              "       [0.87837838],\n",
              "       [0.69305019],\n",
              "       [0.58494208],\n",
              "       [0.4980695 ],\n",
              "       [0.58108108],\n",
              "       [0.6042471 ],\n",
              "       [0.55405405],\n",
              "       [0.60810811],\n",
              "       [0.68918919],\n",
              "       [0.71042471],\n",
              "       [0.83204633],\n",
              "       [1.        ],\n",
              "       [0.96911197],\n",
              "       [0.77992278],\n",
              "       [0.68918919],\n",
              "       [0.55212355],\n",
              "       [0.63320463]])"
            ]
          },
          "metadata": {
            "tags": []
          },
          "execution_count": 49
        }
      ]
    },
    {
      "cell_type": "code",
      "metadata": {
        "id": "jEQLV30AVnBv",
        "colab_type": "code",
        "colab": {}
      },
      "source": [
        "# converting an array of values into a dataset matrix\n",
        "def create_dataset(dataset, time_step=1):\n",
        "\tdataX, dataY = [], []\n",
        "\tfor i in range(len(dataset)-time_step-1):\n",
        "\t\ta = dataset[i:(i+time_step), 0]   ###i=0, 0,1,2,3\n",
        "\t\tdataX.append(a)\n",
        "\t\tdataY.append(dataset[i + time_step, 0])\n",
        "\treturn np.array(dataX), np.array(dataY)"
      ],
      "execution_count": 0,
      "outputs": []
    },
    {
      "cell_type": "code",
      "metadata": {
        "id": "7RVc-nGUX4Gv",
        "colab_type": "code",
        "colab": {}
      },
      "source": [
        "# reshape into X=t,t+1,t+2,t+3 and Y=t+4\n",
        "time_step = 4\n",
        "X_train, y_train = create_dataset(train_data, time_step)\n",
        "X_test, ytest = create_dataset(test_data, time_step)"
      ],
      "execution_count": 0,
      "outputs": []
    },
    {
      "cell_type": "code",
      "metadata": {
        "id": "NswymegaYO94",
        "colab_type": "code",
        "colab": {
          "base_uri": "https://localhost:8080/",
          "height": 390
        },
        "outputId": "c3f881bc-e928-4936-bbe7-5e8cb344cba3"
      },
      "source": [
        "y_train"
      ],
      "execution_count": 57,
      "outputs": [
        {
          "output_type": "execute_result",
          "data": {
            "text/plain": [
              "array([0.03281853, 0.05984556, 0.08494208, 0.08494208, 0.06177606,\n",
              "       0.02895753, 0.        , 0.02702703, 0.02123552, 0.04247104,\n",
              "       0.07142857, 0.05984556, 0.04054054, 0.08687259, 0.12741313,\n",
              "       0.12741313, 0.1042471 , 0.05598456, 0.01930502, 0.06949807,\n",
              "       0.07915058, 0.08880309, 0.14285714, 0.11389961, 0.13127413,\n",
              "       0.14285714, 0.18339768, 0.18339768, 0.15444015, 0.11196911,\n",
              "       0.08108108, 0.11969112, 0.12934363, 0.14671815, 0.17181467,\n",
              "       0.14864865, 0.15250965, 0.22007722, 0.24324324, 0.26640927,\n",
              "       0.2027027 , 0.16795367, 0.13127413, 0.17374517, 0.17760618,\n",
              "       0.17760618, 0.25482625, 0.25289575, 0.24131274, 0.26833977,\n",
              "       0.30888031, 0.32432432, 0.25675676, 0.20656371, 0.14671815,\n",
              "       0.18725869, 0.19305019, 0.16216216, 0.25289575, 0.23745174,\n",
              "       0.25096525, 0.30888031, 0.38223938, 0.36486486, 0.2992278 ,\n",
              "       0.24131274, 0.19111969, 0.24131274, 0.26640927, 0.24903475,\n",
              "       0.31467181, 0.31853282, 0.32046332, 0.40733591, 0.5019305 ,\n",
              "       0.46911197, 0.4015444 , 0.32818533, 0.25675676, 0.33590734,\n",
              "       0.34749035, 0.33397683, 0.41119691, 0.4034749 , 0.41312741,\n",
              "       0.52123552, 0.5965251 , 0.58108108, 0.48455598, 0.38996139,\n",
              "       0.32239382, 0.38996139, 0.40733591, 0.38030888, 0.48648649,\n",
              "       0.47104247, 0.48455598, 0.61389961, 0.6969112 , 0.7007722 ,\n",
              "       0.57915058, 0.46911197, 0.38803089])"
            ]
          },
          "metadata": {
            "tags": []
          },
          "execution_count": 57
        }
      ]
    },
    {
      "cell_type": "code",
      "metadata": {
        "id": "mGtDDTwmjDQ8",
        "colab_type": "code",
        "colab": {
          "base_uri": "https://localhost:8080/",
          "height": 34
        },
        "outputId": "839106f2-61fa-4a7a-e49f-e19ffdb4f82c"
      },
      "source": [
        "X_train.shape, y_train.shape"
      ],
      "execution_count": 62,
      "outputs": [
        {
          "output_type": "execute_result",
          "data": {
            "text/plain": [
              "((103, 4), (103,))"
            ]
          },
          "metadata": {
            "tags": []
          },
          "execution_count": 62
        }
      ]
    },
    {
      "cell_type": "code",
      "metadata": {
        "id": "4XOi3Zk8jPTM",
        "colab_type": "code",
        "colab": {}
      },
      "source": [
        "# reshape input to be [sample, time steps, features] which is required for LSTM\n",
        "X_train =X_train.reshape(X_train.shape[0], 4, 1)\n",
        "X_test = X_test.reshape(X_test.shape[0], 4, 1)"
      ],
      "execution_count": 0,
      "outputs": []
    },
    {
      "cell_type": "code",
      "metadata": {
        "id": "UGfVasCOjzCw",
        "colab_type": "code",
        "colab": {
          "base_uri": "https://localhost:8080/",
          "height": 34
        },
        "outputId": "2174f38a-ed33-4b7c-b836-42d4c6b75545"
      },
      "source": [
        "X_train.shape"
      ],
      "execution_count": 67,
      "outputs": [
        {
          "output_type": "execute_result",
          "data": {
            "text/plain": [
              "(103, 4, 1)"
            ]
          },
          "metadata": {
            "tags": []
          },
          "execution_count": 67
        }
      ]
    },
    {
      "cell_type": "code",
      "metadata": {
        "id": "jFut_kNzkLE9",
        "colab_type": "code",
        "colab": {}
      },
      "source": [
        "### Create the LSTM model\n",
        "from tensorflow.keras.models import Sequential\n",
        "from tensorflow.keras.layers import Dense\n",
        "from tensorflow.keras.layers import LSTM"
      ],
      "execution_count": 0,
      "outputs": []
    },
    {
      "cell_type": "code",
      "metadata": {
        "id": "IUt9rdsMkRsw",
        "colab_type": "code",
        "colab": {
          "base_uri": "https://localhost:8080/",
          "height": 1000
        },
        "outputId": "d66ff6cc-d272-4c9a-e171-be7a61fbe47b"
      },
      "source": [
        "model=Sequential()\n",
        "model.add(LSTM(50,return_sequences=True,input_shape=(4,1)))\n",
        "model.add(LSTM(50))\n",
        "model.add(Dense(1))\n",
        "model.compile(loss='mean_squared_error',optimizer='adam')\n",
        "model.fit(X_train,y_train,validation_data=(X_test,ytest),epochs=100,batch_size=1,verbose=1)"
      ],
      "execution_count": 69,
      "outputs": [
        {
          "output_type": "stream",
          "text": [
            "Epoch 1/100\n",
            "103/103 [==============================] - 1s 11ms/step - loss: 0.0198 - val_loss: 0.0549\n",
            "Epoch 2/100\n",
            "103/103 [==============================] - 0s 4ms/step - loss: 0.0102 - val_loss: 0.0392\n",
            "Epoch 3/100\n",
            "103/103 [==============================] - 0s 4ms/step - loss: 0.0077 - val_loss: 0.0479\n",
            "Epoch 4/100\n",
            "103/103 [==============================] - 0s 4ms/step - loss: 0.0080 - val_loss: 0.0558\n",
            "Epoch 5/100\n",
            "103/103 [==============================] - 0s 4ms/step - loss: 0.0079 - val_loss: 0.0430\n",
            "Epoch 6/100\n",
            "103/103 [==============================] - 0s 4ms/step - loss: 0.0082 - val_loss: 0.0371\n",
            "Epoch 7/100\n",
            "103/103 [==============================] - 0s 4ms/step - loss: 0.0075 - val_loss: 0.0355\n",
            "Epoch 8/100\n",
            "103/103 [==============================] - 0s 4ms/step - loss: 0.0079 - val_loss: 0.0282\n",
            "Epoch 9/100\n",
            "103/103 [==============================] - 0s 4ms/step - loss: 0.0067 - val_loss: 0.0253\n",
            "Epoch 10/100\n",
            "103/103 [==============================] - 0s 4ms/step - loss: 0.0066 - val_loss: 0.0273\n",
            "Epoch 11/100\n",
            "103/103 [==============================] - 0s 4ms/step - loss: 0.0061 - val_loss: 0.0221\n",
            "Epoch 12/100\n",
            "103/103 [==============================] - 0s 4ms/step - loss: 0.0057 - val_loss: 0.0220\n",
            "Epoch 13/100\n",
            "103/103 [==============================] - 0s 5ms/step - loss: 0.0060 - val_loss: 0.0238\n",
            "Epoch 14/100\n",
            "103/103 [==============================] - 0s 4ms/step - loss: 0.0052 - val_loss: 0.0175\n",
            "Epoch 15/100\n",
            "103/103 [==============================] - 0s 4ms/step - loss: 0.0048 - val_loss: 0.0178\n",
            "Epoch 16/100\n",
            "103/103 [==============================] - 0s 4ms/step - loss: 0.0045 - val_loss: 0.0178\n",
            "Epoch 17/100\n",
            "103/103 [==============================] - 0s 4ms/step - loss: 0.0038 - val_loss: 0.0234\n",
            "Epoch 18/100\n",
            "103/103 [==============================] - 0s 4ms/step - loss: 0.0032 - val_loss: 0.0100\n",
            "Epoch 19/100\n",
            "103/103 [==============================] - 0s 4ms/step - loss: 0.0033 - val_loss: 0.0074\n",
            "Epoch 20/100\n",
            "103/103 [==============================] - 0s 4ms/step - loss: 0.0031 - val_loss: 0.0129\n",
            "Epoch 21/100\n",
            "103/103 [==============================] - 0s 4ms/step - loss: 0.0027 - val_loss: 0.0097\n",
            "Epoch 22/100\n",
            "103/103 [==============================] - 0s 4ms/step - loss: 0.0027 - val_loss: 0.0089\n",
            "Epoch 23/100\n",
            "103/103 [==============================] - 0s 4ms/step - loss: 0.0025 - val_loss: 0.0066\n",
            "Epoch 24/100\n",
            "103/103 [==============================] - 0s 4ms/step - loss: 0.0022 - val_loss: 0.0128\n",
            "Epoch 25/100\n",
            "103/103 [==============================] - 0s 4ms/step - loss: 0.0025 - val_loss: 0.0078\n",
            "Epoch 26/100\n",
            "103/103 [==============================] - 0s 4ms/step - loss: 0.0021 - val_loss: 0.0142\n",
            "Epoch 27/100\n",
            "103/103 [==============================] - 0s 4ms/step - loss: 0.0023 - val_loss: 0.0091\n",
            "Epoch 28/100\n",
            "103/103 [==============================] - 0s 4ms/step - loss: 0.0022 - val_loss: 0.0094\n",
            "Epoch 29/100\n",
            "103/103 [==============================] - 0s 4ms/step - loss: 0.0026 - val_loss: 0.0139\n",
            "Epoch 30/100\n",
            "103/103 [==============================] - 0s 4ms/step - loss: 0.0021 - val_loss: 0.0100\n",
            "Epoch 31/100\n",
            "103/103 [==============================] - 0s 4ms/step - loss: 0.0021 - val_loss: 0.0076\n",
            "Epoch 32/100\n",
            "103/103 [==============================] - 0s 4ms/step - loss: 0.0022 - val_loss: 0.0102\n",
            "Epoch 33/100\n",
            "103/103 [==============================] - 0s 5ms/step - loss: 0.0022 - val_loss: 0.0131\n",
            "Epoch 34/100\n",
            "103/103 [==============================] - 0s 4ms/step - loss: 0.0023 - val_loss: 0.0110\n",
            "Epoch 35/100\n",
            "103/103 [==============================] - 0s 5ms/step - loss: 0.0022 - val_loss: 0.0085\n",
            "Epoch 36/100\n",
            "103/103 [==============================] - 0s 4ms/step - loss: 0.0030 - val_loss: 0.0090\n",
            "Epoch 37/100\n",
            "103/103 [==============================] - 0s 4ms/step - loss: 0.0022 - val_loss: 0.0126\n",
            "Epoch 38/100\n",
            "103/103 [==============================] - 0s 4ms/step - loss: 0.0024 - val_loss: 0.0095\n",
            "Epoch 39/100\n",
            "103/103 [==============================] - 0s 4ms/step - loss: 0.0026 - val_loss: 0.0086\n",
            "Epoch 40/100\n",
            "103/103 [==============================] - 0s 4ms/step - loss: 0.0024 - val_loss: 0.0074\n",
            "Epoch 41/100\n",
            "103/103 [==============================] - 0s 4ms/step - loss: 0.0024 - val_loss: 0.0079\n",
            "Epoch 42/100\n",
            "103/103 [==============================] - 0s 4ms/step - loss: 0.0022 - val_loss: 0.0108\n",
            "Epoch 43/100\n",
            "103/103 [==============================] - 0s 4ms/step - loss: 0.0029 - val_loss: 0.0122\n",
            "Epoch 44/100\n",
            "103/103 [==============================] - 0s 4ms/step - loss: 0.0023 - val_loss: 0.0072\n",
            "Epoch 45/100\n",
            "103/103 [==============================] - 0s 4ms/step - loss: 0.0023 - val_loss: 0.0073\n",
            "Epoch 46/100\n",
            "103/103 [==============================] - 0s 4ms/step - loss: 0.0024 - val_loss: 0.0177\n",
            "Epoch 47/100\n",
            "103/103 [==============================] - 0s 4ms/step - loss: 0.0023 - val_loss: 0.0224\n",
            "Epoch 48/100\n",
            "103/103 [==============================] - 0s 4ms/step - loss: 0.0026 - val_loss: 0.0094\n",
            "Epoch 49/100\n",
            "103/103 [==============================] - 0s 4ms/step - loss: 0.0024 - val_loss: 0.0138\n",
            "Epoch 50/100\n",
            "103/103 [==============================] - 0s 5ms/step - loss: 0.0027 - val_loss: 0.0079\n",
            "Epoch 51/100\n",
            "103/103 [==============================] - 0s 4ms/step - loss: 0.0021 - val_loss: 0.0085\n",
            "Epoch 52/100\n",
            "103/103 [==============================] - 0s 4ms/step - loss: 0.0028 - val_loss: 0.0085\n",
            "Epoch 53/100\n",
            "103/103 [==============================] - 0s 4ms/step - loss: 0.0020 - val_loss: 0.0112\n",
            "Epoch 54/100\n",
            "103/103 [==============================] - 0s 4ms/step - loss: 0.0021 - val_loss: 0.0080\n",
            "Epoch 55/100\n",
            "103/103 [==============================] - 0s 4ms/step - loss: 0.0025 - val_loss: 0.0222\n",
            "Epoch 56/100\n",
            "103/103 [==============================] - 0s 4ms/step - loss: 0.0024 - val_loss: 0.0124\n",
            "Epoch 57/100\n",
            "103/103 [==============================] - 0s 4ms/step - loss: 0.0023 - val_loss: 0.0190\n",
            "Epoch 58/100\n",
            "103/103 [==============================] - 0s 4ms/step - loss: 0.0023 - val_loss: 0.0078\n",
            "Epoch 59/100\n",
            "103/103 [==============================] - 0s 4ms/step - loss: 0.0021 - val_loss: 0.0078\n",
            "Epoch 60/100\n",
            "103/103 [==============================] - 0s 4ms/step - loss: 0.0021 - val_loss: 0.0125\n",
            "Epoch 61/100\n",
            "103/103 [==============================] - 0s 4ms/step - loss: 0.0022 - val_loss: 0.0130\n",
            "Epoch 62/100\n",
            "103/103 [==============================] - 0s 5ms/step - loss: 0.0024 - val_loss: 0.0086\n",
            "Epoch 63/100\n",
            "103/103 [==============================] - 0s 4ms/step - loss: 0.0023 - val_loss: 0.0091\n",
            "Epoch 64/100\n",
            "103/103 [==============================] - 0s 4ms/step - loss: 0.0023 - val_loss: 0.0205\n",
            "Epoch 65/100\n",
            "103/103 [==============================] - 0s 4ms/step - loss: 0.0023 - val_loss: 0.0083\n",
            "Epoch 66/100\n",
            "103/103 [==============================] - 0s 4ms/step - loss: 0.0021 - val_loss: 0.0178\n",
            "Epoch 67/100\n",
            "103/103 [==============================] - 0s 4ms/step - loss: 0.0025 - val_loss: 0.0126\n",
            "Epoch 68/100\n",
            "103/103 [==============================] - 0s 4ms/step - loss: 0.0021 - val_loss: 0.0075\n",
            "Epoch 69/100\n",
            "103/103 [==============================] - 0s 4ms/step - loss: 0.0022 - val_loss: 0.0095\n",
            "Epoch 70/100\n",
            "103/103 [==============================] - 0s 4ms/step - loss: 0.0022 - val_loss: 0.0140\n",
            "Epoch 71/100\n",
            "103/103 [==============================] - 0s 4ms/step - loss: 0.0021 - val_loss: 0.0089\n",
            "Epoch 72/100\n",
            "103/103 [==============================] - 0s 5ms/step - loss: 0.0025 - val_loss: 0.0065\n",
            "Epoch 73/100\n",
            "103/103 [==============================] - 1s 5ms/step - loss: 0.0024 - val_loss: 0.0091\n",
            "Epoch 74/100\n",
            "103/103 [==============================] - 0s 5ms/step - loss: 0.0027 - val_loss: 0.0142\n",
            "Epoch 75/100\n",
            "103/103 [==============================] - 0s 4ms/step - loss: 0.0025 - val_loss: 0.0125\n",
            "Epoch 76/100\n",
            "103/103 [==============================] - 0s 4ms/step - loss: 0.0023 - val_loss: 0.0093\n",
            "Epoch 77/100\n",
            "103/103 [==============================] - 0s 4ms/step - loss: 0.0025 - val_loss: 0.0085\n",
            "Epoch 78/100\n",
            "103/103 [==============================] - 0s 4ms/step - loss: 0.0022 - val_loss: 0.0100\n",
            "Epoch 79/100\n",
            "103/103 [==============================] - 0s 4ms/step - loss: 0.0022 - val_loss: 0.0134\n",
            "Epoch 80/100\n",
            "103/103 [==============================] - 0s 5ms/step - loss: 0.0021 - val_loss: 0.0097\n",
            "Epoch 81/100\n",
            "103/103 [==============================] - 0s 4ms/step - loss: 0.0021 - val_loss: 0.0107\n",
            "Epoch 82/100\n",
            "103/103 [==============================] - 0s 4ms/step - loss: 0.0022 - val_loss: 0.0083\n",
            "Epoch 83/100\n",
            "103/103 [==============================] - 0s 4ms/step - loss: 0.0026 - val_loss: 0.0066\n",
            "Epoch 84/100\n",
            "103/103 [==============================] - 0s 4ms/step - loss: 0.0021 - val_loss: 0.0066\n",
            "Epoch 85/100\n",
            "103/103 [==============================] - 0s 4ms/step - loss: 0.0023 - val_loss: 0.0164\n",
            "Epoch 86/100\n",
            "103/103 [==============================] - 0s 5ms/step - loss: 0.0022 - val_loss: 0.0118\n",
            "Epoch 87/100\n",
            "103/103 [==============================] - 0s 4ms/step - loss: 0.0022 - val_loss: 0.0102\n",
            "Epoch 88/100\n",
            "103/103 [==============================] - 0s 4ms/step - loss: 0.0023 - val_loss: 0.0170\n",
            "Epoch 89/100\n",
            "103/103 [==============================] - 0s 4ms/step - loss: 0.0021 - val_loss: 0.0087\n",
            "Epoch 90/100\n",
            "103/103 [==============================] - 0s 4ms/step - loss: 0.0024 - val_loss: 0.0066\n",
            "Epoch 91/100\n",
            "103/103 [==============================] - 0s 4ms/step - loss: 0.0022 - val_loss: 0.0073\n",
            "Epoch 92/100\n",
            "103/103 [==============================] - 0s 4ms/step - loss: 0.0022 - val_loss: 0.0091\n",
            "Epoch 93/100\n",
            "103/103 [==============================] - 0s 4ms/step - loss: 0.0023 - val_loss: 0.0071\n",
            "Epoch 94/100\n",
            "103/103 [==============================] - 0s 4ms/step - loss: 0.0021 - val_loss: 0.0089\n",
            "Epoch 95/100\n",
            "103/103 [==============================] - 0s 4ms/step - loss: 0.0021 - val_loss: 0.0088\n",
            "Epoch 96/100\n",
            "103/103 [==============================] - 0s 4ms/step - loss: 0.0021 - val_loss: 0.0093\n",
            "Epoch 97/100\n",
            "103/103 [==============================] - 0s 4ms/step - loss: 0.0021 - val_loss: 0.0212\n",
            "Epoch 98/100\n",
            "103/103 [==============================] - 0s 4ms/step - loss: 0.0021 - val_loss: 0.0160\n",
            "Epoch 99/100\n",
            "103/103 [==============================] - 0s 4ms/step - loss: 0.0023 - val_loss: 0.0087\n",
            "Epoch 100/100\n",
            "103/103 [==============================] - 0s 4ms/step - loss: 0.0020 - val_loss: 0.0080\n"
          ],
          "name": "stdout"
        },
        {
          "output_type": "execute_result",
          "data": {
            "text/plain": [
              "<tensorflow.python.keras.callbacks.History at 0x7fac2285e2b0>"
            ]
          },
          "metadata": {
            "tags": []
          },
          "execution_count": 69
        }
      ]
    },
    {
      "cell_type": "code",
      "metadata": {
        "id": "YoOeZIXUlI1A",
        "colab_type": "code",
        "colab": {}
      },
      "source": [
        "#Model Prediction\n",
        "train_predict=model.predict(X_train)\n",
        "test_predict=model.predict(X_test)"
      ],
      "execution_count": 0,
      "outputs": []
    },
    {
      "cell_type": "code",
      "metadata": {
        "id": "n2xVQMstluvy",
        "colab_type": "code",
        "colab": {
          "base_uri": "https://localhost:8080/",
          "height": 567
        },
        "outputId": "4fd2d6f3-f9f9-49b1-e054-363396daaabf"
      },
      "source": [
        "test_predict"
      ],
      "execution_count": 71,
      "outputs": [
        {
          "output_type": "execute_result",
          "data": {
            "text/plain": [
              "array([[0.45025972],\n",
              "       [0.5369119 ],\n",
              "       [0.72617465],\n",
              "       [0.7629137 ],\n",
              "       [0.7101536 ],\n",
              "       [0.378555  ],\n",
              "       [0.4919362 ],\n",
              "       [0.37988245],\n",
              "       [0.51126057],\n",
              "       [0.5248228 ],\n",
              "       [0.4450425 ],\n",
              "       [0.6742102 ],\n",
              "       [0.51307094],\n",
              "       [0.65013444],\n",
              "       [0.7503642 ],\n",
              "       [0.89039683],\n",
              "       [0.72641134],\n",
              "       [0.45730457],\n",
              "       [0.5376528 ],\n",
              "       [0.45940092],\n",
              "       [0.656635  ],\n",
              "       [0.5879609 ],\n",
              "       [0.50985307],\n",
              "       [0.654879  ],\n",
              "       [0.71204126],\n",
              "       [0.6627686 ],\n",
              "       [0.8811455 ],\n",
              "       [0.977163  ],\n",
              "       [0.67068136],\n",
              "       [0.53069454],\n",
              "       [0.6068795 ]], dtype=float32)"
            ]
          },
          "metadata": {
            "tags": []
          },
          "execution_count": 71
        }
      ]
    },
    {
      "cell_type": "code",
      "metadata": {
        "id": "y2qK-Xu3lzaP",
        "colab_type": "code",
        "colab": {}
      },
      "source": [
        "#Transforming data back to original form\n",
        "train_predict=scaler.inverse_transform(train_predict)\n",
        "test_predict=scaler.inverse_transform(test_predict)"
      ],
      "execution_count": 0,
      "outputs": []
    },
    {
      "cell_type": "code",
      "metadata": {
        "id": "MOHCDrOOl8Ce",
        "colab_type": "code",
        "colab": {
          "base_uri": "https://localhost:8080/",
          "height": 567
        },
        "outputId": "47c4b957-476e-4f13-ba0e-17459c8dda9e"
      },
      "source": [
        "test_predict"
      ],
      "execution_count": 73,
      "outputs": [
        {
          "output_type": "execute_result",
          "data": {
            "text/plain": [
              "array([[337.23453],\n",
              "       [382.1204 ],\n",
              "       [480.15848],\n",
              "       [499.1893 ],\n",
              "       [471.85956],\n",
              "       [300.0915 ],\n",
              "       [358.82297],\n",
              "       [300.7791 ],\n",
              "       [368.83298],\n",
              "       [375.85822],\n",
              "       [334.532  ],\n",
              "       [453.2409 ],\n",
              "       [369.77075],\n",
              "       [440.76965],\n",
              "       [492.68866],\n",
              "       [565.2255 ],\n",
              "       [480.2811 ],\n",
              "       [340.88376],\n",
              "       [382.50415],\n",
              "       [341.96967],\n",
              "       [444.13693],\n",
              "       [408.56375],\n",
              "       [368.1039 ],\n",
              "       [443.22733],\n",
              "       [472.83737],\n",
              "       [447.31415],\n",
              "       [560.43335],\n",
              "       [610.1705 ],\n",
              "       [451.41296],\n",
              "       [378.89978],\n",
              "       [418.3636 ]], dtype=float32)"
            ]
          },
          "metadata": {
            "tags": []
          },
          "execution_count": 73
        }
      ]
    },
    {
      "cell_type": "code",
      "metadata": {
        "id": "LNMJII8nmHdp",
        "colab_type": "code",
        "colab": {
          "base_uri": "https://localhost:8080/",
          "height": 34
        },
        "outputId": "4de2f921-71d4-48e2-c079-c9621bc2ea44"
      },
      "source": [
        "### Calculate RMSE performance metrics\n",
        "from sklearn.metrics import mean_squared_error\n",
        "math.sqrt(mean_squared_error(y_train,train_predict))"
      ],
      "execution_count": 74,
      "outputs": [
        {
          "output_type": "execute_result",
          "data": {
            "text/plain": [
              "256.22266326032883"
            ]
          },
          "metadata": {
            "tags": []
          },
          "execution_count": 74
        }
      ]
    },
    {
      "cell_type": "code",
      "metadata": {
        "id": "4xXI59UQmNIL",
        "colab_type": "code",
        "colab": {
          "base_uri": "https://localhost:8080/",
          "height": 34
        },
        "outputId": "3ffc4556-2619-408a-9eb6-618a07af0baa"
      },
      "source": [
        "### Test Data RMSE\n",
        "math.sqrt(mean_squared_error(ytest,test_predict))"
      ],
      "execution_count": 75,
      "outputs": [
        {
          "output_type": "execute_result",
          "data": {
            "text/plain": [
              "428.0656943999089"
            ]
          },
          "metadata": {
            "tags": []
          },
          "execution_count": 75
        }
      ]
    },
    {
      "cell_type": "code",
      "metadata": {
        "id": "KGKCLpGAmVH6",
        "colab_type": "code",
        "colab": {
          "base_uri": "https://localhost:8080/",
          "height": 294
        },
        "outputId": "e6c0faf7-ced2-4caa-f3b3-cb82aab78645"
      },
      "source": [
        "### Plotting \n",
        "# shift train predictions for plotting\n",
        "lookback=4\n",
        "trainPredictPlot = np.empty_like(data)\n",
        "trainPredictPlot[:, :] = np.nan\n",
        "trainPredictPlot[look_back:len(train_predict)+look_back, :] = train_predict\n",
        "# shift test predictions for plotting\n",
        "testPredictPlot = np.empty_like(data)\n",
        "testPredictPlot[:, :] = np.nan\n",
        "testPredictPlot[len(train_predict)+(look_back*2)+1:len(data)-1, :] = test_predict\n",
        "# plot baseline and predictions\n",
        "plt.xlabel(\"Month\")\n",
        "plt.ylabel(\"Passengers\")\n",
        "plt.title(\"Passengers Travelled\")\n",
        "plt.plot(scaler.inverse_transform(data)) #original data\n",
        "plt.plot(trainPredictPlot) #train prediction\n",
        "plt.plot(testPredictPlot) #test prediction\n",
        "plt.show()"
      ],
      "execution_count": 104,
      "outputs": [
        {
          "output_type": "display_data",
          "data": {
            "image/png": "[encoded data removed]",
            "text/plain": [
              "<Figure size 432x288 with 1 Axes>"
            ]
          },
          "metadata": {
            "tags": [],
            "needs_background": "light"
          }
        }
      ]
    }
  ]
}